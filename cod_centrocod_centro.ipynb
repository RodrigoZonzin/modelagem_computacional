{
 "cells": [
  {
   "cell_type": "code",
   "execution_count": 70,
   "id": "3490d5db",
   "metadata": {},
   "outputs": [],
   "source": [
    "from fipy import Grid2D, CellVariable, TransientTerm, DiffusionTerm, ConvectionTerm, Viewer\n",
    "import numpy as np\n",
    "import matplotlib.pyplot as plt\n",
    "import matplotlib.image as mpimg\n"
   ]
  },
  {
   "cell_type": "code",
   "execution_count": 181,
   "id": "c0f41fac",
   "metadata": {},
   "outputs": [],
   "source": [
    "# Parâmetros do problema\n",
    "nx = ny = 100  # Número de células na malha\n",
    "dl = 1.0  # Tamanho da célula\n",
    "duration = 10.0  # Tempo total de simulação\n",
    "dt = 0.1  # Passo de tempo\n",
    "beta = 0.1  # Taxa de decaimento de v\n",
    "kappa = 0.95\n",
    "epsilon = 0.03"
   ]
  },
  {
   "cell_type": "code",
   "execution_count": 182,
   "id": "ec91acdc",
   "metadata": {},
   "outputs": [],
   "source": [
    "# Definição da malha\n",
    "mesh = Grid2D(dx=dl, dy=dl, nx=nx, ny=ny)"
   ]
  },
  {
   "cell_type": "code",
   "execution_count": 183,
   "id": "93707782",
   "metadata": {},
   "outputs": [],
   "source": [
    "# Definição das variáveis\n",
    "u = CellVariable(name=\"u\", mesh=mesh, value=0.0)\n",
    "v = CellVariable(name=\"v\", mesh=mesh, value=5.0)"
   ]
  },
  {
   "cell_type": "code",
   "execution_count": 184,
   "id": "db4aad25",
   "metadata": {},
   "outputs": [],
   "source": [
    "# Definir valor inicial diferente no centro do domínio\n",
    "x, y = mesh.cellCenters  \n",
    "xc, yc = nx * dl / 2, ny * dl / 2  # Centro do domínio\n",
    "radius = 1  # Raio da região central"
   ]
  },
  {
   "cell_type": "code",
   "execution_count": 185,
   "id": "b4092cc6",
   "metadata": {
    "lines_to_next_cell": 1
   },
   "outputs": [],
   "source": [
    "# Máscara para definir valores iniciais no centro\n",
    "mask = (x - xc)**2 + (y - yc)**2 < radius**2\n",
    "u.setValue(2.0, where=mask)  # Define u = 2.0 no centro"
   ]
  },
  {
   "cell_type": "code",
   "execution_count": 186,
   "id": "6f3767f9",
   "metadata": {
    "lines_to_next_cell": 1
   },
   "outputs": [],
   "source": [
    "# Definição das funções f(u, v, x, y, t) e K(u)\n",
    "def f(u, v, x, y, t):\n",
    "    global beta\n",
    "    return -beta * v  # Exemplo de função"
   ]
  },
  {
   "cell_type": "code",
   "execution_count": 187,
   "id": "e98d26e8",
   "metadata": {
    "lines_to_next_cell": 1
   },
   "outputs": [],
   "source": [
    "def K(u):\n",
    "    return kappa * (1 + epsilon * u)**3 + 1  # Difusividade dependente de u"
   ]
  },
  {
   "cell_type": "code",
   "execution_count": 188,
   "id": "5398f108",
   "metadata": {},
   "outputs": [],
   "source": [
    "# Definição do campo de convecção w (exemplo)\n",
    "w = (-1.0, 0.5)  # Velocidades constantes em x e y"
   ]
  },
  {
   "cell_type": "code",
   "execution_count": 189,
   "id": "32e6a85c",
   "metadata": {},
   "outputs": [],
   "source": [
    "# Expressões dos termos da equação\n",
    "F_u = f(u, v, x, y, 0)  # f em t = 0"
   ]
  },
  {
   "cell_type": "code",
   "execution_count": 190,
   "id": "19fb599f",
   "metadata": {},
   "outputs": [],
   "source": [
    "eq_u = TransientTerm() == F_u + DiffusionTerm(coeff=K(u)) - ConvectionTerm(coeff=w)\n",
    "eq_v = TransientTerm() == -beta * v"
   ]
  },
  {
   "cell_type": "code",
   "execution_count": 191,
   "id": "483130f1",
   "metadata": {},
   "outputs": [
    {
     "data": {
      "image/png": "[encoded data removed]",
      "text/plain": [
       "<Figure size 600x480 with 2 Axes>"
      ]
     },
     "metadata": {},
     "output_type": "display_data"
    }
   ],
   "source": [
    "# Configuração do visualizador\n",
    "#viewer = Viewer(vars=(u, v), datamin=0.0, datamax=2.5)\n",
    "viewer = Viewer(vars=u, datamin=0.0, datamax=2.5)"
   ]
  },
  {
   "cell_type": "code",
   "execution_count": null,
   "id": "a9e705ac",
   "metadata": {
    "lines_to_next_cell": 2
   },
   "outputs": [],
   "source": [
    "#  Loop de solução\n",
    "time = 0.0\n",
    "i = 0\n",
    "while time < duration:\n",
    "    eq_u.solve(var=u, dt=dt)\n",
    "    eq_v.solve(var=v, dt=dt)\n",
    "    u.setValue(np.maximum(u.value, 0.0))  # Garante u >= 0\n",
    "    time += dt\n",
    "    \n",
    "    # Atualizar o viewer\n",
    "    #viewer.plot()\n",
    "\n",
    "    # Salvar imagem da variável u\n",
    "    img = np.reshape(u.value, (100, 100))\n",
    "\n",
    "    plt.imshow(img)\n",
    "    plt.colorbar()\n",
    "    plt.savefig(f'results/u_{i}')\n",
    "    plt.show()\n",
    "    \n",
    "    "
   ]
  }
 ],
 "metadata": {
  "jupytext": {
   "cell_metadata_filter": "-all",
   "main_language": "python",
   "notebook_metadata_filter": "-all"
  },
  "kernelspec": {
   "display_name": "usr",
   "language": "python",
   "name": "python3"
  },
  "language_info": {
   "codemirror_mode": {
    "name": "ipython",
    "version": 3
   },
   "file_extension": ".py",
   "mimetype": "text/x-python",
   "name": "python",
   "nbconvert_exporter": "python",
   "pygments_lexer": "ipython3",
   "version": "3.12.3"
  }
 },
 "nbformat": 4,
 "nbformat_minor": 5
}
